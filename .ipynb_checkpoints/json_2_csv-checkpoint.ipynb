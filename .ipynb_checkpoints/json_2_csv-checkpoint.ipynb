{
 "cells": [
  {
   "cell_type": "code",
   "execution_count": 14,
   "metadata": {
    "collapsed": true
   },
   "outputs": [],
   "source": [
    "import json\n",
    "import csv"
   ]
  },
  {
   "cell_type": "code",
   "execution_count": 15,
   "metadata": {
    "collapsed": true
   },
   "outputs": [],
   "source": [
    "\"\"\"\n",
    "This can probably be improved but serves the purpose of our analysis.\n",
    "I used Chris's schema so it will be useful for Quarz analysis.\n",
    "\n",
    "\"\"\"\n",
    "\n",
    "EMOTIONS = [\n",
    "    'contempt',\n",
    "    'fear',\n",
    "    'sadness',\n",
    "    'disgust',\n",
    "    'anger',\n",
    "    'neutral',\n",
    "    'happiness',\n",
    "    'surprise',\n",
    "]\n",
    "\n",
    "\n",
    "CSV_COLUMNS = [\n",
    "    'url',\n",
    "    'frame_time',\n",
    "    'sean_happiness',\n",
    "    'sean_neutral',\n",
    "    'sean_anger',\n",
    "    'sean_contempt',\n",
    "    'sean_suprise',\n",
    "    'sean_sadness',\n",
    "    'sean_fear'\n",
    "]"
   ]
  },
  {
   "cell_type": "code",
   "execution_count": 16,
   "metadata": {
    "collapsed": false
   },
   "outputs": [],
   "source": [
    "with open('/Users/Amiros/GitHub/100_days_of_spice/json/2_21_17.json') as data_file:    \n",
    "    json_data = json.load(data_file)\n",
    "    \n",
    "json_data = {int(k):v for k,v in json_data.items()} #converting keys to integer   \n",
    "frame_keys = sorted(json_data.keys())"
   ]
  },
  {
   "cell_type": "code",
   "execution_count": 17,
   "metadata": {
    "collapsed": true
   },
   "outputs": [],
   "source": [
    "csv_data = []\n",
    "   \n",
    "for key in frame_keys:\n",
    "    url = 'https://s3.amazonaws.com/100daysofspice/2_21_17/2_21_17___%d.jpg' % key\n",
    "    frame = json_data[key]\n",
    "        \n",
    "    row = {\n",
    "        #'frame': frame,\n",
    "        'url': url,\n",
    "        'frame_time': key,\n",
    "    }\n",
    "    \n",
    "    if len(frame) > 1:\n",
    "        for face in frame:\n",
    "            if face['faceAttributes']['gender'] == 'male':\n",
    "                prefix = 'sean_'\n",
    "                try:\n",
    "                    for emotion in EMOTIONS:\n",
    "                        row[prefix + emotion] = face['scores'][emotion]\n",
    "                except:\n",
    "                    pass\n",
    "                \n",
    "            row.pop(\"frame\", None)        \n",
    "      \n",
    "    elif len(frame) == 1:\n",
    "        for face in frame:\n",
    "            if face['faceAttributes']['gender'] == 'male':\n",
    "                prefix = 'sean_'\n",
    "                try:\n",
    "                    for emotion in EMOTIONS:\n",
    "                    #print(face['scores'][emotion])\n",
    "                        row[prefix + emotion] = face['scores'][emotion]\n",
    "                except:\n",
    "                    pass\n",
    "                ### assign emotions vale to each candidate and change the name to the respective one \n",
    "          \n",
    "        row.pop(\"frame\", None)        \n",
    "\n",
    "    csv_data.append(row)"
   ]
  },
  {
   "cell_type": "code",
   "execution_count": 18,
   "metadata": {
    "collapsed": true
   },
   "outputs": [],
   "source": [
    "import pandas as pd\n",
    "df = pd.DataFrame(csv_data)\n",
    "df['data'] = '2_21_17'"
   ]
  },
  {
   "cell_type": "code",
   "execution_count": 19,
   "metadata": {
    "collapsed": true
   },
   "outputs": [],
   "source": [
    "df.to_csv('csv/2_21_17_EMOTIONS.csv', sep=',', index=False)"
   ]
  },
  {
   "cell_type": "code",
   "execution_count": null,
   "metadata": {
    "collapsed": true
   },
   "outputs": [],
   "source": []
  }
 ],
 "metadata": {
  "kernelspec": {
   "display_name": "Python 3",
   "language": "python",
   "name": "python3"
  },
  "language_info": {
   "codemirror_mode": {
    "name": "ipython",
    "version": 3
   },
   "file_extension": ".py",
   "mimetype": "text/x-python",
   "name": "python",
   "nbconvert_exporter": "python",
   "pygments_lexer": "ipython3",
   "version": "3.6.0"
  }
 },
 "nbformat": 4,
 "nbformat_minor": 2
}
