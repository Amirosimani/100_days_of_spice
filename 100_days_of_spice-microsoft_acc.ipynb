{
 "cells": [
  {
   "cell_type": "code",
   "execution_count": null,
   "metadata": {
    "collapsed": true
   },
   "outputs": [],
   "source": [
    "# install youtubedl library\n",
    "# sudo -H pip install --upgrade youtube-dl"
   ]
  },
  {
   "cell_type": "code",
   "execution_count": null,
   "metadata": {
    "collapsed": false
   },
   "outputs": [],
   "source": [
    "import os\n",
    "\n",
    "%install_ext https://raw.github.com/cpcloud/ipython-autotime/master/autotime.py\n",
    "%load_ext autotime"
   ]
  },
  {
   "cell_type": "markdown",
   "metadata": {},
   "source": [
    "## download youtube video"
   ]
  },
  {
   "cell_type": "markdown",
   "metadata": {
    "collapsed": false
   },
   "source": [
    "# Detecting emotions"
   ]
  },
  {
   "cell_type": "code",
   "execution_count": 2,
   "metadata": {
    "collapsed": false
   },
   "outputs": [
    {
     "name": "stderr",
     "output_type": "stream",
     "text": [
      "ERROR:root:Line magic function `%install_ext` not found.\n"
     ]
    }
   ],
   "source": [
    "import http.client, urllib, base64, requests\n",
    "import cognitive_face as CF \n",
    "from cognitive_face import util\n",
    "import time\n",
    "import os\n",
    "\n",
    "%install_ext https://raw.github.com/cpcloud/ipython-autotime/master/autotime.py\n",
    "%load_ext autotime"
   ]
  },
  {
   "cell_type": "code",
   "execution_count": 3,
   "metadata": {
    "collapsed": false
   },
   "outputs": [
    {
     "name": "stdout",
     "output_type": "stream",
     "text": [
      "time: 4.51 ms\n"
     ]
    }
   ],
   "source": [
    "#Emotion Analysis parameters\n",
    "_url = 'https://api.projectoxford.ai/emotion/v1.0/recognize'\n",
    "_key = 'f96758ee1dab457b86ffc1da4205d6dc'  ######### Here you have to paste your primary key for EMOTION API\n",
    "_maxNumRetries = 5\n",
    "\n",
    "#Face detection parametrs\n",
    "CF.Key.set('6a96532956704d31a587e859fad4df30') ######### set the key for FACE API "
   ]
  },
  {
   "cell_type": "code",
   "execution_count": 4,
   "metadata": {
    "collapsed": false
   },
   "outputs": [
    {
     "name": "stdout",
     "output_type": "stream",
     "text": [
      "time: 66.5 ms\n"
     ]
    }
   ],
   "source": [
    "# Image path\n",
    "urlImage= ''\n",
    "\n",
    "# Emtional Anlaysis function\n",
    "def processRequest( json, data, headers, params ):\n",
    "\n",
    "    retries = 0\n",
    "    result = None\n",
    "\n",
    "    while True:\n",
    "\n",
    "        response = requests.request( 'post', _url, json = json, data = data, headers = headers, params = params )\n",
    "\n",
    "        if response.status_code == 429: \n",
    "\n",
    "            print( \"Message: %s\" % ( response.json()['error']['message'] ) )\n",
    "\n",
    "            if retries <= _maxNumRetries: \n",
    "                time.sleep(1) \n",
    "                retries += 1\n",
    "                continue\n",
    "            else: \n",
    "                print( 'Error: failed after retrying!' )\n",
    "                break\n",
    "\n",
    "        elif response.status_code == 200 or response.status_code == 201:\n",
    "\n",
    "            if 'content-length' in response.headers and int(response.headers['content-length']) == 0: \n",
    "                result = None \n",
    "            elif 'content-type' in response.headers and isinstance(response.headers['content-type'], str): \n",
    "                if 'application/json' in response.headers['content-type'].lower(): \n",
    "                    result = response.json() if response.content else None \n",
    "                elif 'image' in response.headers['content-type'].lower(): \n",
    "                    result = response.content\n",
    "        else:\n",
    "            print( \"Error code: %d\" % ( response.status_code ) )\n",
    "            print( \"Message: %s\" % ( response.json()['error']['message'] ) )\n",
    "\n",
    "        break\n",
    "        \n",
    "    return result\n",
    "\n",
    "\n",
    "headers = dict()\n",
    "headers['Ocp-Apim-Subscription-Key'] = _key\n",
    "headers['Content-Type'] = 'application/json' \n",
    "\n",
    "json = { 'url': urlImage } \n",
    "data = None\n",
    "params = None"
   ]
  },
  {
   "cell_type": "code",
   "execution_count": 5,
   "metadata": {
    "collapsed": false
   },
   "outputs": [
    {
     "name": "stdout",
     "output_type": "stream",
     "text": [
      "time: 13.4 ms\n"
     ]
    }
   ],
   "source": [
    "# Face detect function\n",
    "def detect(image, face_id=True, landmarks=False, faceRectangle= False, attributes='gender'):\n",
    "    \n",
    "    url = 'detect'\n",
    "    headers, data, json = util.parse_image(image)\n",
    "    params = {\n",
    "        'returnFaceId': face_id and 'true',\n",
    "        'returnFaceLandmarks': landmarks and 'false',\n",
    "        'returnFaceAttributes': attributes,\n",
    "    }\n",
    "\n",
    "    return util.request('POST', url, headers=headers, params=params, json=json,\n",
    "                        data=data)"
   ]
  },
  {
   "cell_type": "code",
   "execution_count": 23,
   "metadata": {
    "collapsed": false
   },
   "outputs": [
    {
     "name": "stdout",
     "output_type": "stream",
     "text": [
      "time: 8.14 ms\n"
     ]
    }
   ],
   "source": [
    "# generate a fake url list to replicate S3 condition\n",
    "\n",
    "#### ATTNTION ----- change '4641' to match the number of last image+1 -----#######\n",
    "#### ATTNTION ----- change '1_23_17/1_23_17___%d.jpg' to match the path and names on your S3 bucket -----#######\n",
    "\n",
    "url_list = []\n",
    "for i in range(0,3054,1):\n",
    "    url = \"https://s3.amazonaws.com/100daysofspice/3_30_17/3_30_17___%d.jpg\" % i\n",
    "    url_list.append(url)"
   ]
  },
  {
   "cell_type": "code",
   "execution_count": null,
   "metadata": {
    "collapsed": false
   },
   "outputs": [],
   "source": [
    "# Face Detection & Emotion Analysis - UPDATED\n",
    "processed = {}\n",
    "face_detection = {}\n",
    "count = 0\n",
    "\n",
    "for single_image in url_list:\n",
    " \n",
    "    try:\n",
    "        face_detection[count] = detect(single_image)\n",
    "\n",
    "        json = { 'url': single_image } \n",
    "        processed[count] = processRequest(json, data, headers, params)  \n",
    "    except:\n",
    "        pass\n",
    "\n",
    "    try:\n",
    "        if face_detection[count][0]['faceRectangle'] == processed[count][0]['faceRectangle']:\n",
    "            face_detection[count][0].update(processed[count][0])\n",
    "            face_detection[count][1].update(processed[count][1])\n",
    "        if  face_detection[count][0]['faceRectangle'] == processed[count][1]['faceRectangle']:\n",
    "            face_detection[count][0].update(processed[count][1])\n",
    "            face_detection[count][1].update(processed[count][0])\n",
    "    except:\n",
    "        pass\n",
    "    \n",
    "    count += 1\n",
    "    \n",
    "#     time.sleep(3)"
   ]
  },
  {
   "cell_type": "code",
   "execution_count": 7,
   "metadata": {
    "collapsed": false
   },
   "outputs": [
    {
     "data": {
      "text/plain": [
       "{0: [], 1: [], 2: [], 3: []}"
      ]
     },
     "execution_count": 7,
     "metadata": {},
     "output_type": "execute_result"
    },
    {
     "name": "stdout",
     "output_type": "stream",
     "text": [
      "time: 14.3 ms\n"
     ]
    }
   ],
   "source": [
    "face_detection"
   ]
  },
  {
   "cell_type": "code",
   "execution_count": null,
   "metadata": {
    "collapsed": false
   },
   "outputs": [],
   "source": [
    "# Save the result as Json\n",
    "#### ATTNTION ----- update '1_23_17.json' to the name of your current folder #######\n",
    "\n",
    "import json\n",
    "with open('/Users/Amiros/GitHub/100_days_of_spice/json/3_30_17.json', 'w') as fp:\n",
    "    json.dump(face_detection, fp, sort_keys=True)"
   ]
  },
  {
   "cell_type": "markdown",
   "metadata": {},
   "source": [
    "## json to csv"
   ]
  },
  {
   "cell_type": "code",
   "execution_count": null,
   "metadata": {
    "collapsed": false
   },
   "outputs": [],
   "source": [
    "import json\n",
    "import csv"
   ]
  },
  {
   "cell_type": "code",
   "execution_count": null,
   "metadata": {
    "collapsed": false
   },
   "outputs": [],
   "source": [
    "\"\"\"\n",
    "This can probably be improved but serves the purpose of our analysis.\n",
    "I used Chris's schema so it will be useful for Quarz analysis.\n",
    "\n",
    "\"\"\"\n",
    "\n",
    "EMOTIONS = [\n",
    "    'contempt',\n",
    "    'fear',\n",
    "    'sadness',\n",
    "    'disgust',\n",
    "    'anger',\n",
    "    'neutral',\n",
    "    'happiness',\n",
    "    'surprise',\n",
    "]\n",
    "\n",
    "\n",
    "CSV_COLUMNS = [\n",
    "    'url',\n",
    "    'frame_time',\n",
    "    'sean_happiness',\n",
    "    'sean_neutral',\n",
    "    'sean_anger',\n",
    "    'sean_contempt',\n",
    "    'sean_suprise',\n",
    "    'sean_sadness',\n",
    "    'sean_fear'\n",
    "]"
   ]
  },
  {
   "cell_type": "code",
   "execution_count": null,
   "metadata": {
    "collapsed": false
   },
   "outputs": [],
   "source": [
    "with open('/Users/Amiros/GitHub/100_days_of_spice/json/3_30_17.json') as data_file:    \n",
    "    json_data = json.load(data_file)\n",
    "    \n",
    "json_data = {int(k):v for k,v in json_data.items()} #converting keys to integer   \n",
    "frame_keys = sorted(json_data.keys())"
   ]
  },
  {
   "cell_type": "code",
   "execution_count": null,
   "metadata": {
    "collapsed": false
   },
   "outputs": [],
   "source": [
    "csv_data = []\n",
    "   \n",
    "for key in frame_keys:\n",
    "    url = 'https://s3.amazonaws.com/100daysofspice/3_30_17/3_30_17___%d.jpg' % key\n",
    "    frame = json_data[key]\n",
    "        \n",
    "    row = {\n",
    "        #'frame': frame,\n",
    "        'url': url,\n",
    "        'frame_time': key,\n",
    "    }\n",
    "    \n",
    "    if len(frame) > 1:\n",
    "        for face in frame:\n",
    "            if face['faceAttributes']['gender'] == 'male':\n",
    "                prefix = 'sean_'\n",
    "                try:\n",
    "                    for emotion in EMOTIONS:\n",
    "                        row[prefix + emotion] = face['scores'][emotion]\n",
    "                except:\n",
    "                    pass\n",
    "                \n",
    "            row.pop(\"frame\", None)        \n",
    "      \n",
    "    elif len(frame) == 1:\n",
    "        for face in frame:\n",
    "            if face['faceAttributes']['gender'] == 'male':\n",
    "                prefix = 'sean_'\n",
    "                try:\n",
    "                    for emotion in EMOTIONS:\n",
    "                    #print(face['scores'][emotion])\n",
    "                        row[prefix + emotion] = face['scores'][emotion]\n",
    "                except:\n",
    "                    pass\n",
    "                ### assign emotions vale to each candidate and change the name to the respective one \n",
    "          \n",
    "        row.pop(\"frame\", None)        \n",
    "\n",
    "    csv_data.append(row)"
   ]
  },
  {
   "cell_type": "code",
   "execution_count": null,
   "metadata": {
    "collapsed": false
   },
   "outputs": [],
   "source": [
    "import pandas as pd\n",
    "df = pd.DataFrame(csv_data)"
   ]
  },
  {
   "cell_type": "code",
   "execution_count": null,
   "metadata": {
    "collapsed": false
   },
   "outputs": [],
   "source": [
    "df['data'] = '3_30_17'"
   ]
  },
  {
   "cell_type": "code",
   "execution_count": null,
   "metadata": {
    "collapsed": false
   },
   "outputs": [],
   "source": [
    "df.to_csv('csv/3_30_17-EMOTIONS.csv', sep=',', index=False)"
   ]
  },
  {
   "cell_type": "markdown",
   "metadata": {
    "collapsed": true
   },
   "source": [
    "##### "
   ]
  }
 ],
 "metadata": {
  "kernelspec": {
   "display_name": "Python 3",
   "language": "python",
   "name": "python3"
  },
  "language_info": {
   "codemirror_mode": {
    "name": "ipython",
    "version": 3
   },
   "file_extension": ".py",
   "mimetype": "text/x-python",
   "name": "python",
   "nbconvert_exporter": "python",
   "pygments_lexer": "ipython3",
   "version": "3.6.0"
  }
 },
 "nbformat": 4,
 "nbformat_minor": 0
}
