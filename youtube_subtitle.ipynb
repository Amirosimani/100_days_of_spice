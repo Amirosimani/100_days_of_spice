{
 "cells": [
  {
   "cell_type": "code",
   "execution_count": null,
   "metadata": {
    "collapsed": false
   },
   "outputs": [],
   "source": [
    "from bs4 import BeautifulSoup\n",
    "import requests\n",
    "import pandas as pd"
   ]
  },
  {
   "cell_type": "code",
   "execution_count": null,
   "metadata": {
    "collapsed": false
   },
   "outputs": [],
   "source": [
    "### change the url\n",
    "# http://video.google.com/timedtext?lang=en&v=\n",
    "\n",
    "url_list = pd.read_csv('/Users/Amiros/GitHub/100_days_of_spice/transcripts/url_list2.csv')"
   ]
  },
  {
   "cell_type": "code",
   "execution_count": null,
   "metadata": {
    "collapsed": false
   },
   "outputs": [],
   "source": [
    "for idx, row in url_list.iterrows():\n",
    "    try:\n",
    "        url = requests.get(row[link])\n",
    "        soup = BeautifulSoup(url.text, 'html.parser')\n",
    "        content = soup.findAll('text')\n",
    "        \n",
    "        # creating a dataframe from the content\n",
    "        lines = []\n",
    "        df = []\n",
    "        for line in content:\n",
    "            lines.append(str(line))\n",
    "        df = pd.DataFrame(lines)\n",
    "        \n",
    "        # splitting rows\n",
    "        df = pd.DataFrame(df[0].str.split('\">',1).tolist(),\n",
    "                                           columns = ['time','text'])\n",
    "        s = df['time'].apply(lambda x: x.split(' '))\n",
    "        df['start'] = s.apply(lambda x: x[-1])\n",
    "        df['duration'] = s.apply(lambda x: x[1])\n",
    "        df = df.drop(['time'], axis=1)\n",
    "        \n",
    "        # trimming df\n",
    "        df['duration'] = df['duration'].str.replace('dur=\"','')\n",
    "        df['start'] = df['start'].str.replace('start=\"','')\n",
    "        df['text'] = df['text'].str.replace('</text>','')\n",
    "        df['duration']= df['duration'].str.replace('\"','')\n",
    "        df['text'] = df['text'].str.replace('\\n',' ')\n",
    "        \n",
    "        df.to_csv('transcripts/1_23_17-transcript.csv', sep=',', index=False)\n",
    "    except:\n",
    "        pass      "
   ]
  },
  {
   "cell_type": "code",
   "execution_count": null,
   "metadata": {
    "collapsed": false
   },
   "outputs": [],
   "source": []
  },
  {
   "cell_type": "code",
   "execution_count": null,
   "metadata": {
    "collapsed": false
   },
   "outputs": [],
   "source": [
    "url = requests.get(\"http://video.google.com/timedtext?lang=en&v=F855i1Tzx_g&index=39&list=PLRJNAhZxtqH_3Nl-7n1vhgTUHyFSuQ0nI\")\n",
    "\n",
    "soup = BeautifulSoup(url.text, 'html.parser')\n",
    "content = soup.findAll('text')"
   ]
  },
  {
   "cell_type": "code",
   "execution_count": null,
   "metadata": {
    "collapsed": false
   },
   "outputs": [],
   "source": [
    "# creating a dataframe from the content\n",
    "lines = []\n",
    "for line in content:\n",
    "    lines.append(str(line))\n",
    "    \n",
    "df = pd.DataFrame(lines)"
   ]
  },
  {
   "cell_type": "code",
   "execution_count": null,
   "metadata": {
    "collapsed": false
   },
   "outputs": [],
   "source": [
    "# splitting rows\n",
    "df = pd.DataFrame(df[0].str.split('\">',1).tolist(),\n",
    "                                   columns = ['time','text'])\n",
    "\n",
    "s = df['time'].apply(lambda x: x.split(' '))\n",
    "df['start'] = s.apply(lambda x: x[-1])\n",
    "df['duration'] = s.apply(lambda x: x[1])\n",
    "\n",
    "df = df.drop(['time'], axis=1)"
   ]
  },
  {
   "cell_type": "code",
   "execution_count": null,
   "metadata": {
    "collapsed": false
   },
   "outputs": [],
   "source": [
    "df['duration'] = df['duration'].str.replace('dur=\"','')\n",
    "df['start'] = df['start'].str.replace('start=\"','')\n",
    "df['text'] = df['text'].str.replace('</text>','')\n",
    "df['duration']= df['duration'].str.replace('\"','')\n",
    "df['text'] = df['text'].str.replace('\\n',' ')"
   ]
  },
  {
   "cell_type": "code",
   "execution_count": null,
   "metadata": {
    "collapsed": false
   },
   "outputs": [],
   "source": [
    "# dataframe sanity check\n",
    "df"
   ]
  },
  {
   "cell_type": "code",
   "execution_count": null,
   "metadata": {
    "collapsed": true
   },
   "outputs": [],
   "source": [
    "## change 1_23_17 to the respective file\n",
    "df.to_csv('transcripts/1_23_17-transcript.csv', sep=',', index=False)"
   ]
  }
 ],
 "metadata": {
  "kernelspec": {
   "display_name": "Python 3",
   "language": "python",
   "name": "python3"
  },
  "language_info": {
   "codemirror_mode": {
    "name": "ipython",
    "version": 3
   },
   "file_extension": ".py",
   "mimetype": "text/x-python",
   "name": "python",
   "nbconvert_exporter": "python",
   "pygments_lexer": "ipython3",
   "version": "3.6.0"
  }
 },
 "nbformat": 4,
 "nbformat_minor": 2
}
